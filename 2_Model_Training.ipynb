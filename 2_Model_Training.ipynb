{
 "cells": [
  {
   "cell_type": "code",
   "execution_count": 1,
   "id": "fb7a1f84-4807-4be9-8b07-0afbde7a0864",
   "metadata": {},
   "outputs": [
    {
     "data": {
      "text/html": [
       "<div>\n",
       "<style scoped>\n",
       "    .dataframe tbody tr th:only-of-type {\n",
       "        vertical-align: middle;\n",
       "    }\n",
       "\n",
       "    .dataframe tbody tr th {\n",
       "        vertical-align: top;\n",
       "    }\n",
       "\n",
       "    .dataframe thead th {\n",
       "        text-align: right;\n",
       "    }\n",
       "</style>\n",
       "<table border=\"1\" class=\"dataframe\">\n",
       "  <thead>\n",
       "    <tr style=\"text-align: right;\">\n",
       "      <th></th>\n",
       "      <th>Date</th>\n",
       "      <th>Drug</th>\n",
       "      <th>Opening_Balance</th>\n",
       "      <th>Quantity_Received</th>\n",
       "      <th>Consumption</th>\n",
       "      <th>Losses_Adjustments</th>\n",
       "      <th>Closing_Balance</th>\n",
       "      <th>Days_Out_of_Stock</th>\n",
       "      <th>Stock_Out</th>\n",
       "      <th>month</th>\n",
       "      <th>year</th>\n",
       "      <th>quarter</th>\n",
       "      <th>consumption_lag_1</th>\n",
       "      <th>consumption_roll_mean_3</th>\n",
       "    </tr>\n",
       "  </thead>\n",
       "  <tbody>\n",
       "    <tr>\n",
       "      <th>0</th>\n",
       "      <td>2020-03-01</td>\n",
       "      <td>Amlodipine 5mg</td>\n",
       "      <td>4650</td>\n",
       "      <td>7170</td>\n",
       "      <td>2047.0</td>\n",
       "      <td>50</td>\n",
       "      <td>9723</td>\n",
       "      <td>0</td>\n",
       "      <td>0</td>\n",
       "      <td>3</td>\n",
       "      <td>2020</td>\n",
       "      <td>1</td>\n",
       "      <td>2453.0</td>\n",
       "      <td>2250.000000</td>\n",
       "    </tr>\n",
       "    <tr>\n",
       "      <th>1</th>\n",
       "      <td>2020-04-01</td>\n",
       "      <td>Amlodipine 5mg</td>\n",
       "      <td>9723</td>\n",
       "      <td>0</td>\n",
       "      <td>2077.0</td>\n",
       "      <td>181</td>\n",
       "      <td>7465</td>\n",
       "      <td>0</td>\n",
       "      <td>0</td>\n",
       "      <td>4</td>\n",
       "      <td>2020</td>\n",
       "      <td>2</td>\n",
       "      <td>2047.0</td>\n",
       "      <td>2192.333333</td>\n",
       "    </tr>\n",
       "    <tr>\n",
       "      <th>2</th>\n",
       "      <td>2020-05-01</td>\n",
       "      <td>Amlodipine 5mg</td>\n",
       "      <td>7465</td>\n",
       "      <td>0</td>\n",
       "      <td>2685.0</td>\n",
       "      <td>26</td>\n",
       "      <td>4754</td>\n",
       "      <td>0</td>\n",
       "      <td>0</td>\n",
       "      <td>5</td>\n",
       "      <td>2020</td>\n",
       "      <td>2</td>\n",
       "      <td>2077.0</td>\n",
       "      <td>2269.666667</td>\n",
       "    </tr>\n",
       "    <tr>\n",
       "      <th>3</th>\n",
       "      <td>2020-06-01</td>\n",
       "      <td>Amlodipine 5mg</td>\n",
       "      <td>4754</td>\n",
       "      <td>7170</td>\n",
       "      <td>2363.0</td>\n",
       "      <td>29</td>\n",
       "      <td>9532</td>\n",
       "      <td>0</td>\n",
       "      <td>0</td>\n",
       "      <td>6</td>\n",
       "      <td>2020</td>\n",
       "      <td>2</td>\n",
       "      <td>2685.0</td>\n",
       "      <td>2375.000000</td>\n",
       "    </tr>\n",
       "    <tr>\n",
       "      <th>4</th>\n",
       "      <td>2020-07-01</td>\n",
       "      <td>Amlodipine 5mg</td>\n",
       "      <td>9532</td>\n",
       "      <td>0</td>\n",
       "      <td>2224.0</td>\n",
       "      <td>186</td>\n",
       "      <td>7122</td>\n",
       "      <td>0</td>\n",
       "      <td>0</td>\n",
       "      <td>7</td>\n",
       "      <td>2020</td>\n",
       "      <td>3</td>\n",
       "      <td>2363.0</td>\n",
       "      <td>2424.000000</td>\n",
       "    </tr>\n",
       "  </tbody>\n",
       "</table>\n",
       "</div>"
      ],
      "text/plain": [
       "         Date            Drug  Opening_Balance  Quantity_Received  \\\n",
       "0  2020-03-01  Amlodipine 5mg             4650               7170   \n",
       "1  2020-04-01  Amlodipine 5mg             9723                  0   \n",
       "2  2020-05-01  Amlodipine 5mg             7465                  0   \n",
       "3  2020-06-01  Amlodipine 5mg             4754               7170   \n",
       "4  2020-07-01  Amlodipine 5mg             9532                  0   \n",
       "\n",
       "   Consumption  Losses_Adjustments  Closing_Balance  Days_Out_of_Stock  \\\n",
       "0       2047.0                  50             9723                  0   \n",
       "1       2077.0                 181             7465                  0   \n",
       "2       2685.0                  26             4754                  0   \n",
       "3       2363.0                  29             9532                  0   \n",
       "4       2224.0                 186             7122                  0   \n",
       "\n",
       "   Stock_Out  month  year  quarter  consumption_lag_1  consumption_roll_mean_3  \n",
       "0          0      3  2020        1             2453.0              2250.000000  \n",
       "1          0      4  2020        2             2047.0              2192.333333  \n",
       "2          0      5  2020        2             2077.0              2269.666667  \n",
       "3          0      6  2020        2             2685.0              2375.000000  \n",
       "4          0      7  2020        3             2363.0              2424.000000  "
      ]
     },
     "execution_count": 1,
     "metadata": {},
     "output_type": "execute_result"
    }
   ],
   "source": [
    "import pandas as pd\n",
    "\n",
    "df = pd.read_csv(\"ncd_stock_data_featured.csv\")\n",
    "df.head()"
   ]
  },
  {
   "cell_type": "markdown",
   "id": "cacc7508-fba8-43e4-acde-bc132b71eec2",
   "metadata": {},
   "source": [
    "# --- Model Training ---\n",
    "*We will start with a simple, interpretable baseline model: Logistic Regression.*"
   ]
  },
  {
   "cell_type": "code",
   "execution_count": 2,
   "id": "27cc60fc-181b-48a0-9d12-48b8a0b49b50",
   "metadata": {},
   "outputs": [
    {
     "name": "stdout",
     "output_type": "stream",
     "text": [
      "Shape of X_train: (486, 11)\n",
      "Shape of X_test: (122, 11)\n"
     ]
    }
   ],
   "source": [
    "from sklearn.model_selection import train_test_split\n",
    "\n",
    "# Define Features (X) and Target (y)\n",
    "y = df['Stock_Out']\n",
    "X = df.drop(['Stock_Out', 'Date', 'Drug'], axis=1)\n",
    "\n",
    "# Split the data into training and testing sets\n",
    "X_train, X_test, y_train, y_test = train_test_split(\n",
    "    X, y, test_size=0.2, random_state=42, stratify=y\n",
    ")\n",
    "\n",
    "# Print the shape of the sets to verify the split\n",
    "print(\"Shape of X_train:\", X_train.shape)\n",
    "print(\"Shape of X_test:\", X_test.shape)"
   ]
  },
  {
   "cell_type": "code",
   "execution_count": 3,
   "id": "e88f0161-1672-479e-9939-b730b9088b57",
   "metadata": {},
   "outputs": [
    {
     "name": "stdout",
     "output_type": "stream",
     "text": [
      "Model training complete.\n"
     ]
    }
   ],
   "source": [
    "from sklearn.linear_model import LogisticRegression\n",
    "\n",
    "# 1. Initialize the model\n",
    "# We use class_weight='balanced' to help the model pay more attention to the rare 'Stock_Out' class\n",
    "model = LogisticRegression(class_weight='balanced', random_state=42, max_iter=5000)\n",
    "\n",
    "# 2. Train the model on the training data\n",
    "model.fit(X_train, y_train)\n",
    "\n",
    "print(\"Model training complete.\")"
   ]
  },
  {
   "cell_type": "code",
   "execution_count": 4,
   "id": "2bfd0767-b8e5-436a-85b3-38d520f11cbc",
   "metadata": {},
   "outputs": [
    {
     "name": "stdout",
     "output_type": "stream",
     "text": [
      "Predictions made on the test set.\n"
     ]
    }
   ],
   "source": [
    "#Make predictions on the test set (the data the model has never seen)\n",
    "y_pred = model.predict(X_test)\n",
    "\n",
    "print(\"Predictions made on the test set.\")"
   ]
  },
  {
   "cell_type": "code",
   "execution_count": 5,
   "id": "dad67deb-468b-43bd-8037-355b6d7be690",
   "metadata": {},
   "outputs": [
    {
     "name": "stdout",
     "output_type": "stream",
     "text": [
      "--- Classification Report ---\n",
      "              precision    recall  f1-score   support\n",
      "\n",
      "           0       1.00      1.00      1.00       105\n",
      "           1       1.00      1.00      1.00        17\n",
      "\n",
      "    accuracy                           1.00       122\n",
      "   macro avg       1.00      1.00      1.00       122\n",
      "weighted avg       1.00      1.00      1.00       122\n",
      "\n",
      "\n",
      "--- Confusion Matrix ---\n"
     ]
    },
    {
     "data": {
      "image/png": "[encoded data removed]",
      "text/plain": [
       "<Figure size 800x600 with 2 Axes>"
      ]
     },
     "metadata": {},
     "output_type": "display_data"
    }
   ],
   "source": [
    "from sklearn.metrics import classification_report, confusion_matrix\n",
    "import seaborn as sns\n",
    "import matplotlib.pyplot as plt\n",
    "\n",
    "# --- Generate the Classification Report ---\n",
    "# This gives us key metrics like Precision, Recall, and F1-score\n",
    "print(\"--- Classification Report ---\")\n",
    "report = classification_report(y_test, y_pred)\n",
    "print(report)\n",
    "\n",
    "\n",
    "# --- Generate the Confusion Matrix ---\n",
    "print(\"\\n--- Confusion Matrix ---\")\n",
    "cm = confusion_matrix(y_test, y_pred)\n",
    "\n",
    "# To make it easier to read, let's plot it\n",
    "plt.figure(figsize=(8, 6))\n",
    "sns.heatmap(cm, annot=True, fmt='d', cmap='Blues', \n",
    "            xticklabels=['No Stock-Out', 'Stock-Out'], \n",
    "            yticklabels=['No Stock-Out', 'Stock-Out'])\n",
    "plt.xlabel('Predicted Label')\n",
    "plt.ylabel('True Label')\n",
    "plt.title('Confusion Matrix')\n",
    "plt.show()"
   ]
  },
  {
   "cell_type": "markdown",
   "id": "1f6897d2-2eb0-4af8-b085-35b4fd31c482",
   "metadata": {},
   "source": [
    "# --- Model Interpretability with SHAP ---\n",
    "*Goal: Understand the \"why\" behind our model's predictions. Which features are the most important drivers of stock-outs?*"
   ]
  },
  {
   "cell_type": "code",
   "execution_count": 6,
   "id": "aeba56d7-6760-4040-b67a-231b05167f65",
   "metadata": {},
   "outputs": [
    {
     "name": "stderr",
     "output_type": "stream",
     "text": [
      "C:\\Users\\DELL\\anaconda3\\envs\\ncd_predictor\\lib\\site-packages\\tqdm\\auto.py:21: TqdmWarning: IProgress not found. Please update jupyter and ipywidgets. See https://ipywidgets.readthedocs.io/en/stable/user_install.html\n",
      "  from .autonotebook import tqdm as notebook_tqdm\n",
      "100%|████████████████████████| 122/122 [00:08<00:00, 15.05it/s]\n"
     ]
    },
    {
     "name": "stdout",
     "output_type": "stream",
     "text": [
      "--- SHAP Summary Plot ---\n"
     ]
    },
    {
     "data": {
      "image/png": "[encoded data removed]",
      "text/plain": [
       "<Figure size 1150x660 with 2 Axes>"
      ]
     },
     "metadata": {},
     "output_type": "display_data"
    }
   ],
   "source": [
    "import shap\n",
    "import matplotlib.pyplot as plt # We need to import this for saving\n",
    "\n",
    "# --- This part is the same ---\n",
    "# Create a SHAP explainer object\n",
    "explainer = shap.KernelExplainer(model.predict_proba, X_train.sample(100))\n",
    "\n",
    "# Calculate SHAP values for the test set\n",
    "shap_values = explainer.shap_values(X_test)\n",
    "\n",
    "print(\"--- SHAP Summary Plot ---\")\n",
    "\n",
    "# --- This is the same plot generation ---\n",
    "shap.summary_plot(shap_values, X_test, show=False) # Add show=False to prevent it from displaying twice\n",
    "\n",
    "# ====================================================================\n",
    "# --- NEW CODE TO SAVE THE PLOT ---\n",
    "# ====================================================================\n",
    "# 1. Get the current plot figure and save it to a file.\n",
    "#    'bbox_inches=\"tight\"' is the magic command that automatically adjusts\n",
    "#    the file's borders to make sure nothing is cut off.\n",
    "plt.savefig(\"shap_summary_plot.png\", bbox_inches=\"tight\", dpi=150)\n",
    "\n",
    "# 2. Explicitly show the plot in the notebook now that we're done saving.\n",
    "plt.show()\n",
    "# ===================================================================="
   ]
  },
  {
   "cell_type": "code",
   "execution_count": null,
   "id": "a60497c4-2190-446b-9d88-f1e7286bafb0",
   "metadata": {},
   "outputs": [],
   "source": []
  }
 ],
 "metadata": {
  "kernelspec": {
   "display_name": "Python 3 (ipykernel)",
   "language": "python",
   "name": "python3"
  },
  "language_info": {
   "codemirror_mode": {
    "name": "ipython",
    "version": 3
   },
   "file_extension": ".py",
   "mimetype": "text/x-python",
   "name": "python",
   "nbconvert_exporter": "python",
   "pygments_lexer": "ipython3",
   "version": "3.10.18"
  }
 },
 "nbformat": 4,
 "nbformat_minor": 5
}
