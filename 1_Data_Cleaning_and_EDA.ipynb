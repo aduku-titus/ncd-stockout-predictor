{
 "cells": [
  {
   "cell_type": "code",
   "execution_count": 1,
   "id": "41310f27-ad53-4cb0-b3d3-d7a58e7074b5",
   "metadata": {},
   "outputs": [],
   "source": [
    "import pandas as pd\n",
    "import numpy as np\n",
    "\n",
    "# Load the messy dataset we created in Level 3\n",
    "df_messy = pd.read_csv(\"ncd_stock_data_dynamic_messy.csv\")"
   ]
  },
  {
   "cell_type": "code",
   "execution_count": 2,
   "id": "8752c886-bdfb-4c60-bca3-003591dba442",
   "metadata": {},
   "outputs": [
    {
     "data": {
      "text/html": [
       "<div>\n",
       "<style scoped>\n",
       "    .dataframe tbody tr th:only-of-type {\n",
       "        vertical-align: middle;\n",
       "    }\n",
       "\n",
       "    .dataframe tbody tr th {\n",
       "        vertical-align: top;\n",
       "    }\n",
       "\n",
       "    .dataframe thead th {\n",
       "        text-align: right;\n",
       "    }\n",
       "</style>\n",
       "<table border=\"1\" class=\"dataframe\">\n",
       "  <thead>\n",
       "    <tr style=\"text-align: right;\">\n",
       "      <th></th>\n",
       "      <th>Date</th>\n",
       "      <th>Drug</th>\n",
       "      <th>Opening_Balance</th>\n",
       "      <th>Quantity_Received</th>\n",
       "      <th>Consumption</th>\n",
       "      <th>Losses_Adjustments</th>\n",
       "      <th>Closing_Balance</th>\n",
       "      <th>Days_Out_of_Stock</th>\n",
       "    </tr>\n",
       "  </thead>\n",
       "  <tbody>\n",
       "    <tr>\n",
       "      <th>0</th>\n",
       "      <td>2020-01-01</td>\n",
       "      <td>Amlodipine 5mg</td>\n",
       "      <td>7170</td>\n",
       "      <td>0</td>\n",
       "      <td>2453.0</td>\n",
       "      <td>56</td>\n",
       "      <td>4661</td>\n",
       "      <td>0</td>\n",
       "    </tr>\n",
       "    <tr>\n",
       "      <th>1</th>\n",
       "      <td>2020-02-01</td>\n",
       "      <td>Amlodipine 5mg</td>\n",
       "      <td>4661</td>\n",
       "      <td>0</td>\n",
       "      <td>NaN</td>\n",
       "      <td>11</td>\n",
       "      <td>4650</td>\n",
       "      <td>0</td>\n",
       "    </tr>\n",
       "    <tr>\n",
       "      <th>2</th>\n",
       "      <td>2020-03-01</td>\n",
       "      <td>Amlodipine 5mg</td>\n",
       "      <td>4650</td>\n",
       "      <td>7170</td>\n",
       "      <td>2047.0</td>\n",
       "      <td>50</td>\n",
       "      <td>9723</td>\n",
       "      <td>0</td>\n",
       "    </tr>\n",
       "    <tr>\n",
       "      <th>3</th>\n",
       "      <td>2020-04-01</td>\n",
       "      <td>Amlodipine 5mg</td>\n",
       "      <td>9723</td>\n",
       "      <td>0</td>\n",
       "      <td>2077.0</td>\n",
       "      <td>181</td>\n",
       "      <td>7465</td>\n",
       "      <td>0</td>\n",
       "    </tr>\n",
       "    <tr>\n",
       "      <th>4</th>\n",
       "      <td>2020-05-01</td>\n",
       "      <td>Amlodipine 5mg</td>\n",
       "      <td>7465</td>\n",
       "      <td>0</td>\n",
       "      <td>2685.0</td>\n",
       "      <td>26</td>\n",
       "      <td>4754</td>\n",
       "      <td>0</td>\n",
       "    </tr>\n",
       "  </tbody>\n",
       "</table>\n",
       "</div>"
      ],
      "text/plain": [
       "         Date            Drug  Opening_Balance  Quantity_Received  \\\n",
       "0  2020-01-01  Amlodipine 5mg             7170                  0   \n",
       "1  2020-02-01  Amlodipine 5mg             4661                  0   \n",
       "2  2020-03-01  Amlodipine 5mg             4650               7170   \n",
       "3  2020-04-01  Amlodipine 5mg             9723                  0   \n",
       "4  2020-05-01  Amlodipine 5mg             7465                  0   \n",
       "\n",
       "   Consumption  Losses_Adjustments  Closing_Balance  Days_Out_of_Stock  \n",
       "0       2453.0                  56             4661                  0  \n",
       "1          NaN                  11             4650                  0  \n",
       "2       2047.0                  50             9723                  0  \n",
       "3       2077.0                 181             7465                  0  \n",
       "4       2685.0                  26             4754                  0  "
      ]
     },
     "execution_count": 2,
     "metadata": {},
     "output_type": "execute_result"
    }
   ],
   "source": [
    "df_messy.head()"
   ]
  },
  {
   "cell_type": "code",
   "execution_count": 3,
   "id": "9ad84fb0-3c32-4db1-bf77-d9e7f1a0d94c",
   "metadata": {},
   "outputs": [
    {
     "data": {
      "text/plain": [
       "(720, 8)"
      ]
     },
     "execution_count": 3,
     "metadata": {},
     "output_type": "execute_result"
    }
   ],
   "source": [
    "df_messy.shape"
   ]
  },
  {
   "cell_type": "code",
   "execution_count": 4,
   "id": "1318ecf0-0a5a-4611-be8a-9d3d4fd82440",
   "metadata": {},
   "outputs": [
    {
     "name": "stdout",
     "output_type": "stream",
     "text": [
      "<class 'pandas.core.frame.DataFrame'>\n",
      "RangeIndex: 720 entries, 0 to 719\n",
      "Data columns (total 8 columns):\n",
      " #   Column              Non-Null Count  Dtype  \n",
      "---  ------              --------------  -----  \n",
      " 0   Date                720 non-null    object \n",
      " 1   Drug                720 non-null    object \n",
      " 2   Opening_Balance     720 non-null    int64  \n",
      " 3   Quantity_Received   720 non-null    int64  \n",
      " 4   Consumption         638 non-null    float64\n",
      " 5   Losses_Adjustments  720 non-null    int64  \n",
      " 6   Closing_Balance     720 non-null    int64  \n",
      " 7   Days_Out_of_Stock   720 non-null    int64  \n",
      "dtypes: float64(1), int64(5), object(2)\n",
      "memory usage: 45.1+ KB\n"
     ]
    }
   ],
   "source": [
    "df_messy.info()"
   ]
  },
  {
   "cell_type": "markdown",
   "id": "4c0dfa39-48e7-489a-b686-259c02853f7b",
   "metadata": {},
   "source": []
  },
  {
   "cell_type": "markdown",
   "id": "f39767f1-1ed6-4859-9d06-bfa0e65a530d",
   "metadata": {},
   "source": [
    "# Section 3: Systematic Diagnosis of Data Errors\n",
    "*Goal: Investigate and quantify each of the data quality issues found in the vitals check.*"
   ]
  },
  {
   "cell_type": "code",
   "execution_count": 5,
   "id": "581d597c-8c83-4028-aa7f-874f564074fe",
   "metadata": {},
   "outputs": [
    {
     "name": "stdout",
     "output_type": "stream",
     "text": [
      "Number of missing consumption values: 82\n",
      "Percentage of missing values: 11.39%\n"
     ]
    }
   ],
   "source": [
    "# Calculate the number of missing values in 'Consumption'\n",
    "missing_count = df_messy['Consumption'].isnull().sum()\n",
    "\n",
    "# Calculate the total number of rows\n",
    "total_rows = len(df_messy)\n",
    "\n",
    "# Calculate the percentage\n",
    "missing_percentage = (missing_count / total_rows) * 100\n",
    "\n",
    "print(f\"Number of missing consumption values: {missing_count}\")\n",
    "print(f\"Percentage of missing values: {missing_percentage:.2f}%\")"
   ]
  },
  {
   "cell_type": "code",
   "execution_count": 6,
   "id": "50b9b321-0334-4e42-837f-9a1e96d14129",
   "metadata": {},
   "outputs": [
    {
     "name": "stdout",
     "output_type": "stream",
     "text": [
      "Found 7 rows with negative consumption:\n"
     ]
    },
    {
     "data": {
      "text/html": [
       "<div>\n",
       "<style scoped>\n",
       "    .dataframe tbody tr th:only-of-type {\n",
       "        vertical-align: middle;\n",
       "    }\n",
       "\n",
       "    .dataframe tbody tr th {\n",
       "        vertical-align: top;\n",
       "    }\n",
       "\n",
       "    .dataframe thead th {\n",
       "        text-align: right;\n",
       "    }\n",
       "</style>\n",
       "<table border=\"1\" class=\"dataframe\">\n",
       "  <thead>\n",
       "    <tr style=\"text-align: right;\">\n",
       "      <th></th>\n",
       "      <th>Date</th>\n",
       "      <th>Drug</th>\n",
       "      <th>Opening_Balance</th>\n",
       "      <th>Quantity_Received</th>\n",
       "      <th>Consumption</th>\n",
       "      <th>Losses_Adjustments</th>\n",
       "      <th>Closing_Balance</th>\n",
       "      <th>Days_Out_of_Stock</th>\n",
       "    </tr>\n",
       "  </thead>\n",
       "  <tbody>\n",
       "    <tr>\n",
       "      <th>16</th>\n",
       "      <td>2021-05-01</td>\n",
       "      <td>Amlodipine 5mg</td>\n",
       "      <td>11640</td>\n",
       "      <td>0</td>\n",
       "      <td>-50.0</td>\n",
       "      <td>141</td>\n",
       "      <td>11549</td>\n",
       "      <td>0</td>\n",
       "    </tr>\n",
       "    <tr>\n",
       "      <th>186</th>\n",
       "      <td>2020-07-01</td>\n",
       "      <td>Atorvastatin 20mg</td>\n",
       "      <td>8559</td>\n",
       "      <td>0</td>\n",
       "      <td>-50.0</td>\n",
       "      <td>94</td>\n",
       "      <td>8515</td>\n",
       "      <td>0</td>\n",
       "    </tr>\n",
       "    <tr>\n",
       "      <th>514</th>\n",
       "      <td>2022-11-01</td>\n",
       "      <td>Glibenclamide 5mg</td>\n",
       "      <td>2654</td>\n",
       "      <td>0</td>\n",
       "      <td>-50.0</td>\n",
       "      <td>52</td>\n",
       "      <td>2652</td>\n",
       "      <td>0</td>\n",
       "    </tr>\n",
       "    <tr>\n",
       "      <th>614</th>\n",
       "      <td>2021-03-01</td>\n",
       "      <td>Methyldopa 250mg</td>\n",
       "      <td>0</td>\n",
       "      <td>7776</td>\n",
       "      <td>-50.0</td>\n",
       "      <td>0</td>\n",
       "      <td>7826</td>\n",
       "      <td>0</td>\n",
       "    </tr>\n",
       "    <tr>\n",
       "      <th>615</th>\n",
       "      <td>2021-04-01</td>\n",
       "      <td>Methyldopa 250mg</td>\n",
       "      <td>7826</td>\n",
       "      <td>0</td>\n",
       "      <td>-50.0</td>\n",
       "      <td>80</td>\n",
       "      <td>7796</td>\n",
       "      <td>0</td>\n",
       "    </tr>\n",
       "    <tr>\n",
       "      <th>663</th>\n",
       "      <td>2020-04-01</td>\n",
       "      <td>Hydralazine 25mg</td>\n",
       "      <td>2790</td>\n",
       "      <td>0</td>\n",
       "      <td>-50.0</td>\n",
       "      <td>35</td>\n",
       "      <td>2805</td>\n",
       "      <td>0</td>\n",
       "    </tr>\n",
       "    <tr>\n",
       "      <th>691</th>\n",
       "      <td>2022-08-01</td>\n",
       "      <td>Hydralazine 25mg</td>\n",
       "      <td>1449</td>\n",
       "      <td>0</td>\n",
       "      <td>-50.0</td>\n",
       "      <td>5</td>\n",
       "      <td>1494</td>\n",
       "      <td>0</td>\n",
       "    </tr>\n",
       "  </tbody>\n",
       "</table>\n",
       "</div>"
      ],
      "text/plain": [
       "           Date               Drug  Opening_Balance  Quantity_Received  \\\n",
       "16   2021-05-01     Amlodipine 5mg            11640                  0   \n",
       "186  2020-07-01  Atorvastatin 20mg             8559                  0   \n",
       "514  2022-11-01  Glibenclamide 5mg             2654                  0   \n",
       "614  2021-03-01   Methyldopa 250mg                0               7776   \n",
       "615  2021-04-01   Methyldopa 250mg             7826                  0   \n",
       "663  2020-04-01   Hydralazine 25mg             2790                  0   \n",
       "691  2022-08-01   Hydralazine 25mg             1449                  0   \n",
       "\n",
       "     Consumption  Losses_Adjustments  Closing_Balance  Days_Out_of_Stock  \n",
       "16         -50.0                 141            11549                  0  \n",
       "186        -50.0                  94             8515                  0  \n",
       "514        -50.0                  52             2652                  0  \n",
       "614        -50.0                   0             7826                  0  \n",
       "615        -50.0                  80             7796                  0  \n",
       "663        -50.0                  35             2805                  0  \n",
       "691        -50.0                   5             1494                  0  "
      ]
     },
     "metadata": {},
     "output_type": "display_data"
    }
   ],
   "source": [
    "# Find all rows where Consumption is less than 0\n",
    "negative_consumption = df_messy[df_messy['Consumption'] < 0]\n",
    "\n",
    "print(f\"Found {len(negative_consumption)} rows with negative consumption:\")\n",
    "display(negative_consumption) # 'display()' is better than 'print()' for DataFrames in a notebook"
   ]
  },
  {
   "cell_type": "markdown",
   "id": "0a66c498-0dc9-45bd-a1f4-e28d484c213c",
   "metadata": {},
   "source": [
    "# Section 4: The \"Treatment\" Phase - Data Cleaning\n",
    "*Goal: Execute the cleaning plan to create a new, analysis-ready DataFrame.*\n"
   ]
  },
  {
   "cell_type": "code",
   "execution_count": 7,
   "id": "217f73e9-4cbf-41e0-abf0-d8ea382a12a9",
   "metadata": {},
   "outputs": [],
   "source": [
    "# Create a copy of the messy DataFrame to work on, preserving the original\n",
    "df_clean = df_messy.copy()"
   ]
  },
  {
   "cell_type": "code",
   "execution_count": 8,
   "id": "f70fe9a1-85ea-4ba6-8531-02537d5a3d7b",
   "metadata": {},
   "outputs": [
    {
     "name": "stdout",
     "output_type": "stream",
     "text": [
      "Data types after conversion:\n",
      "<class 'pandas.core.frame.DataFrame'>\n",
      "RangeIndex: 720 entries, 0 to 719\n",
      "Data columns (total 8 columns):\n",
      " #   Column              Non-Null Count  Dtype         \n",
      "---  ------              --------------  -----         \n",
      " 0   Date                720 non-null    datetime64[ns]\n",
      " 1   Drug                720 non-null    object        \n",
      " 2   Opening_Balance     720 non-null    int64         \n",
      " 3   Quantity_Received   720 non-null    int64         \n",
      " 4   Consumption         638 non-null    float64       \n",
      " 5   Losses_Adjustments  720 non-null    int64         \n",
      " 6   Closing_Balance     720 non-null    int64         \n",
      " 7   Days_Out_of_Stock   720 non-null    int64         \n",
      "dtypes: datetime64[ns](1), float64(1), int64(5), object(1)\n",
      "memory usage: 45.1+ KB\n"
     ]
    }
   ],
   "source": [
    "# Treatment 1: Fix incorrect data types\n",
    "# We will convert 'Date' to a proper datetime object\n",
    "df_clean['Date'] = pd.to_datetime(df_clean['Date'])\n",
    "\n",
    "# We will convert 'Opening_Balance' to a numeric type\n",
    "# errors='coerce' will turn any values that CAN'T be converted into NaN (missing)\n",
    "df_clean['Opening_Balance'] = pd.to_numeric(df_clean['Opening_Balance'], errors='coerce')\n",
    "\n",
    "print(\"Data types after conversion:\")\n",
    "df_clean.info()"
   ]
  },
  {
   "cell_type": "code",
   "execution_count": 9,
   "id": "967b1e76-e91c-44fe-a3f5-9373dc258eb2",
   "metadata": {},
   "outputs": [
    {
     "name": "stdout",
     "output_type": "stream",
     "text": [
      "Rows before cleaning impossible values: 720\n",
      "Rows after cleaning impossible values: 620\n"
     ]
    }
   ],
   "source": [
    "# Treatment 2: Remove impossible values (negatives and outliers)\n",
    "\n",
    "# First, let's see how many rows we have before cleaning\n",
    "print(f\"Rows before cleaning impossible values: {len(df_clean)}\")\n",
    "\n",
    "# Remove rows where Consumption is negative\n",
    "df_clean = df_clean[df_clean['Consumption'] >= 0]\n",
    "\n",
    "# Remove rows where Consumption is an extreme outlier (let's use > 10000)\n",
    "df_clean = df_clean[df_clean['Consumption'] <= 10000]\n",
    "\n",
    "print(f\"Rows after cleaning impossible values: {len(df_clean)}\")"
   ]
  },
  {
   "cell_type": "markdown",
   "id": "58ccabfb-70de-4dcc-8931-82de4f8e077f",
   "metadata": {},
   "source": [
    "### Treatment 3: Impute Missing Consumption Values\n",
    "*We will fill the missing `Consumption` values with the median consumption for that specific drug. This is more accurate than using a single global median.*"
   ]
  },
  {
   "cell_type": "code",
   "execution_count": 10,
   "id": "d86a2e45-9c05-454a-afc7-2d3ea62a9fb9",
   "metadata": {},
   "outputs": [
    {
     "name": "stdout",
     "output_type": "stream",
     "text": [
      "Missing values after imputation:\n",
      "Date                  0\n",
      "Drug                  0\n",
      "Opening_Balance       0\n",
      "Quantity_Received     0\n",
      "Consumption           0\n",
      "Losses_Adjustments    0\n",
      "Closing_Balance       0\n",
      "Days_Out_of_Stock     0\n",
      "dtype: int64\n"
     ]
    },
    {
     "name": "stderr",
     "output_type": "stream",
     "text": [
      "C:\\Users\\DELL\\AppData\\Local\\Temp\\ipykernel_4116\\3783549214.py:5: FutureWarning: A value is trying to be set on a copy of a DataFrame or Series through chained assignment using an inplace method.\n",
      "The behavior will change in pandas 3.0. This inplace method will never work because the intermediate object on which we are setting values always behaves as a copy.\n",
      "\n",
      "For example, when doing 'df[col].method(value, inplace=True)', try using 'df.method({col: value}, inplace=True)' or df[col] = df[col].method(value) instead, to perform the operation inplace on the original object.\n",
      "\n",
      "\n",
      "  df_clean['Consumption'].fillna(drug_medians, inplace=True)\n"
     ]
    }
   ],
   "source": [
    "# Calculate the median consumption for EACH drug\n",
    "drug_medians = df_clean.groupby('Drug')['Consumption'].transform('median')\n",
    "\n",
    "# Fill the missing values in the 'Consumption' column with the calculated medians\n",
    "df_clean['Consumption'].fillna(drug_medians, inplace=True)\n",
    "\n",
    "print(\"Missing values after imputation:\")\n",
    "print(df_clean.isnull().sum())"
   ]
  },
  {
   "cell_type": "markdown",
   "id": "e9aab616-1216-48da-b266-9f176788563e",
   "metadata": {},
   "source": [
    "# Section 4 Complete: Data is Now Clean\n",
    "*The dataset is now clean, with correct data types, no impossible values, and no missing data. It is ready for exploratory analysis.*"
   ]
  },
  {
   "cell_type": "markdown",
   "id": "7c6d06d1-02b3-4846-b71e-6f93d539e256",
   "metadata": {},
   "source": [
    "# Section 5: Health Assessment & Insights\n",
    "*Goal: Explore the clean data to find initial trends and patterns that could inform our model.*"
   ]
  },
  {
   "cell_type": "code",
   "execution_count": 11,
   "id": "541a89ff-51fd-4114-86b9-2700e90547c7",
   "metadata": {},
   "outputs": [
    {
     "name": "stdout",
     "output_type": "stream",
     "text": [
      "--- Top 10 Most Consumed Drugs ---\n",
      "Drug\n",
      "Lisinopril 10mg              158292.0\n",
      "Metformin 500mg              128684.0\n",
      "Soluble Aspirin 75mg         127766.0\n",
      "Methyldopa 250mg             125547.0\n",
      "Amlodipine 5mg               125236.0\n",
      "Losartan 50mg                 95544.0\n",
      "Atenolol 50mg                 94319.0\n",
      "Atorvastatin 20mg             73663.0\n",
      "Bendroflumethiazide 2.5mg     69404.0\n",
      "Hydralazine 25mg              69055.0\n",
      "Name: Consumption, dtype: float64\n"
     ]
    },
    {
     "data": {
      "image/png": "[encoded data removed]",
      "text/plain": [
       "<Figure size 1200x600 with 1 Axes>"
      ]
     },
     "metadata": {},
     "output_type": "display_data"
    }
   ],
   "source": [
    "# We need this library for plotting\n",
    "import matplotlib.pyplot as plt\n",
    "\n",
    "print(\"--- Top 10 Most Consumed Drugs ---\")\n",
    "consumption_by_drug = df_clean.groupby('Drug')['Consumption'].sum().sort_values(ascending=False)\n",
    "\n",
    "# Display the top 10 as a table\n",
    "print(consumption_by_drug.head(10))\n",
    "\n",
    "# Create a bar chart to visualize this\n",
    "consumption_by_drug.head(10).plot(kind='bar', figsize=(12, 6), title='Total Consumption by Drug (Top 10)')\n",
    "plt.ylabel('Total Units Consumed')\n",
    "plt.show() # This command displays the plot"
   ]
  },
  {
   "cell_type": "code",
   "execution_count": 12,
   "id": "387678a9-c90a-428b-9ed4-ad068a8b2ee3",
   "metadata": {},
   "outputs": [
    {
     "name": "stdout",
     "output_type": "stream",
     "text": [
      "\n",
      "--- Total Monthly Consumption Over Time ---\n"
     ]
    },
    {
     "data": {
      "image/png": "[encoded data removed]",
      "text/plain": [
       "<Figure size 1200x600 with 1 Axes>"
      ]
     },
     "metadata": {},
     "output_type": "display_data"
    }
   ],
   "source": [
    "print(\"\\n--- Total Monthly Consumption Over Time ---\")\n",
    "\n",
    "# Group all data by date and sum the consumption for each month\n",
    "monthly_consumption = df_clean.groupby('Date')['Consumption'].sum()\n",
    "\n",
    "# Create a line plot to see the trend\n",
    "monthly_consumption.plot(figsize=(12, 6), title='Total Monthly Consumption of All Drugs')\n",
    "plt.ylabel('Total Units Consumed')\n",
    "plt.show()"
   ]
  },
  {
   "cell_type": "code",
   "execution_count": 13,
   "id": "2fdc9bad-73e4-4ccd-a6fa-70b072b7206f",
   "metadata": {
    "scrolled": true
   },
   "outputs": [
    {
     "name": "stdout",
     "output_type": "stream",
     "text": [
      "--- Final Check of Served Data ---\n",
      "<class 'pandas.core.frame.DataFrame'>\n",
      "RangeIndex: 620 entries, 0 to 619\n",
      "Data columns (total 9 columns):\n",
      " #   Column              Non-Null Count  Dtype  \n",
      "---  ------              --------------  -----  \n",
      " 0   Date                620 non-null    object \n",
      " 1   Drug                620 non-null    object \n",
      " 2   Opening_Balance     620 non-null    int64  \n",
      " 3   Quantity_Received   620 non-null    int64  \n",
      " 4   Consumption         620 non-null    float64\n",
      " 5   Losses_Adjustments  620 non-null    int64  \n",
      " 6   Closing_Balance     620 non-null    int64  \n",
      " 7   Days_Out_of_Stock   620 non-null    int64  \n",
      " 8   Stock_Out           620 non-null    int64  \n",
      "dtypes: float64(1), int64(6), object(2)\n",
      "memory usage: 43.7+ KB\n"
     ]
    }
   ],
   "source": [
    "# Load the final, analysis-ready data to confirm its structure\n",
    "df_final = pd.read_csv(\"ncd_stock_data_analysis_ready.csv\")\n",
    "\n",
    "# Final quality check\n",
    "print(\"--- Final Check of Served Data ---\")\n",
    "df_final.info()"
   ]
  },
  {
   "cell_type": "code",
   "execution_count": 14,
   "id": "ccaad474-d966-489f-b49a-95000191fbb0",
   "metadata": {},
   "outputs": [
    {
     "name": "stdout",
     "output_type": "stream",
     "text": [
      "Successfully saved the analysis-ready data to 'ncd_stock_data_analysis_ready.csv'\n",
      "\n",
      "Value counts for our new Target Variable (Stock_Out):\n",
      "Stock_Out\n",
      "0    526\n",
      "1     94\n",
      "Name: count, dtype: int64\n",
      "\n",
      "Final 5 rows of the analysis-ready data:\n"
     ]
    },
    {
     "data": {
      "text/html": [
       "<div>\n",
       "<style scoped>\n",
       "    .dataframe tbody tr th:only-of-type {\n",
       "        vertical-align: middle;\n",
       "    }\n",
       "\n",
       "    .dataframe tbody tr th {\n",
       "        vertical-align: top;\n",
       "    }\n",
       "\n",
       "    .dataframe thead th {\n",
       "        text-align: right;\n",
       "    }\n",
       "</style>\n",
       "<table border=\"1\" class=\"dataframe\">\n",
       "  <thead>\n",
       "    <tr style=\"text-align: right;\">\n",
       "      <th></th>\n",
       "      <th>Date</th>\n",
       "      <th>Drug</th>\n",
       "      <th>Opening_Balance</th>\n",
       "      <th>Quantity_Received</th>\n",
       "      <th>Consumption</th>\n",
       "      <th>Losses_Adjustments</th>\n",
       "      <th>Closing_Balance</th>\n",
       "      <th>Days_Out_of_Stock</th>\n",
       "      <th>Stock_Out</th>\n",
       "    </tr>\n",
       "  </thead>\n",
       "  <tbody>\n",
       "    <tr>\n",
       "      <th>713</th>\n",
       "      <td>2024-06-01</td>\n",
       "      <td>Hydralazine 25mg</td>\n",
       "      <td>3035</td>\n",
       "      <td>4380</td>\n",
       "      <td>1295.0</td>\n",
       "      <td>54</td>\n",
       "      <td>6066</td>\n",
       "      <td>0</td>\n",
       "      <td>0</td>\n",
       "    </tr>\n",
       "    <tr>\n",
       "      <th>715</th>\n",
       "      <td>2024-08-01</td>\n",
       "      <td>Hydralazine 25mg</td>\n",
       "      <td>6038</td>\n",
       "      <td>0</td>\n",
       "      <td>1649.0</td>\n",
       "      <td>95</td>\n",
       "      <td>4294</td>\n",
       "      <td>0</td>\n",
       "      <td>0</td>\n",
       "    </tr>\n",
       "    <tr>\n",
       "      <th>716</th>\n",
       "      <td>2024-09-01</td>\n",
       "      <td>Hydralazine 25mg</td>\n",
       "      <td>4294</td>\n",
       "      <td>4380</td>\n",
       "      <td>1558.0</td>\n",
       "      <td>46</td>\n",
       "      <td>7070</td>\n",
       "      <td>0</td>\n",
       "      <td>0</td>\n",
       "    </tr>\n",
       "    <tr>\n",
       "      <th>717</th>\n",
       "      <td>2024-10-01</td>\n",
       "      <td>Hydralazine 25mg</td>\n",
       "      <td>7070</td>\n",
       "      <td>0</td>\n",
       "      <td>1259.0</td>\n",
       "      <td>57</td>\n",
       "      <td>5754</td>\n",
       "      <td>6</td>\n",
       "      <td>1</td>\n",
       "    </tr>\n",
       "    <tr>\n",
       "      <th>719</th>\n",
       "      <td>2024-12-01</td>\n",
       "      <td>Hydralazine 25mg</td>\n",
       "      <td>5716</td>\n",
       "      <td>4380</td>\n",
       "      <td>1578.0</td>\n",
       "      <td>47</td>\n",
       "      <td>8471</td>\n",
       "      <td>2</td>\n",
       "      <td>1</td>\n",
       "    </tr>\n",
       "  </tbody>\n",
       "</table>\n",
       "</div>"
      ],
      "text/plain": [
       "          Date              Drug  Opening_Balance  Quantity_Received  \\\n",
       "713 2024-06-01  Hydralazine 25mg             3035               4380   \n",
       "715 2024-08-01  Hydralazine 25mg             6038                  0   \n",
       "716 2024-09-01  Hydralazine 25mg             4294               4380   \n",
       "717 2024-10-01  Hydralazine 25mg             7070                  0   \n",
       "719 2024-12-01  Hydralazine 25mg             5716               4380   \n",
       "\n",
       "     Consumption  Losses_Adjustments  Closing_Balance  Days_Out_of_Stock  \\\n",
       "713       1295.0                  54             6066                  0   \n",
       "715       1649.0                  95             4294                  0   \n",
       "716       1558.0                  46             7070                  0   \n",
       "717       1259.0                  57             5754                  6   \n",
       "719       1578.0                  47             8471                  2   \n",
       "\n",
       "     Stock_Out  \n",
       "713          0  \n",
       "715          0  \n",
       "716          0  \n",
       "717          1  \n",
       "719          1  "
      ]
     },
     "metadata": {},
     "output_type": "display_data"
    }
   ],
   "source": [
    "# ================================================================\n",
    "# FINAL STEP: Create Target Variable and Save Analysis-Ready Data\n",
    "# ================================================================\n",
    "\n",
    "# Create the target variable 'Stock_Out'\n",
    "# The rule: If a drug was out of stock for 1 or more days, we classify it as a \"Stock_Out\" event (1).\n",
    "# Otherwise, it's a \"No Stock_Out\" event (0).\n",
    "\n",
    "# For our simulation, let's add some realistic 'Days_Out_of_Stock' to our clean data.\n",
    "# This line creates random stockout days for about 15% of the rows.\n",
    "df_clean['Days_Out_of_Stock'] = np.random.choice(\n",
    "    [0, 1, 2, 3, 4, 5, 6, 7], \n",
    "    size=len(df_clean), \n",
    "    p=[0.85, 0.05, 0.04, 0.02, 0.01, 0.01, 0.01, 0.01]\n",
    ")\n",
    "\n",
    "# Now, create the final 'Stock_Out' target column based on our rule.\n",
    "# np.where is a fast way to do an if/else check for an entire column.\n",
    "df_clean['Stock_Out'] = np.where(df_clean['Days_Out_of_Stock'] > 0, 1, 0)\n",
    "\n",
    "# --- Final \"Data Serving\" Step ---\n",
    "# Save the final, clean, and engineered DataFrame to a new file.\n",
    "# This is the file we will use in our next module for model training.\n",
    "final_filename = \"ncd_stock_data_analysis_ready.csv\"\n",
    "df_clean.to_csv(final_filename, index=False)\n",
    "\n",
    "print(f\"Successfully saved the analysis-ready data to '{final_filename}'\")\n",
    "\n",
    "# --- Verification ---\n",
    "print(\"\\nValue counts for our new Target Variable (Stock_Out):\")\n",
    "print(df_clean['Stock_Out'].value_counts())\n",
    "\n",
    "print(\"\\nFinal 5 rows of the analysis-ready data:\")\n",
    "display(df_clean.tail())"
   ]
  },
  {
   "cell_type": "code",
   "execution_count": 15,
   "id": "ddb3a056-0f05-4b4b-980b-e004f00b8fbe",
   "metadata": {},
   "outputs": [
    {
     "name": "stdout",
     "output_type": "stream",
     "text": [
      "--- Final Check of Served Data ---\n",
      "<class 'pandas.core.frame.DataFrame'>\n",
      "RangeIndex: 780 entries, 0 to 779\n",
      "Data columns (total 8 columns):\n",
      " #   Column              Non-Null Count  Dtype \n",
      "---  ------              --------------  ----- \n",
      " 0   Date                780 non-null    object\n",
      " 1   Drug                780 non-null    object\n",
      " 2   Opening_Balance     780 non-null    int64 \n",
      " 3   Quantity_Received   780 non-null    int64 \n",
      " 4   Consumption         780 non-null    int64 \n",
      " 5   Losses_Adjustments  780 non-null    int64 \n",
      " 6   Closing_Balance     780 non-null    int64 \n",
      " 7   Days_Out_of_Stock   780 non-null    int64 \n",
      "dtypes: int64(6), object(2)\n",
      "memory usage: 48.9+ KB\n"
     ]
    }
   ],
   "source": [
    "# Load the final, analysis-ready data to confirm its structure\n",
    "df_final = pd.read_csv(\"ncd_stock_data_dynamic_clean.csv\")\n",
    "\n",
    "# Final quality check\n",
    "print(\"--- Final Check of Served Data ---\")\n",
    "df_final.info()"
   ]
  },
  {
   "cell_type": "code",
   "execution_count": 16,
   "id": "5ce7b1da-a3b2-418e-9942-709255bd5005",
   "metadata": {},
   "outputs": [
    {
     "name": "stdout",
     "output_type": "stream",
     "text": [
      "Enforcing final data types...\n",
      "Successfully saved the analysis-ready data to 'ncd_stock_data_analysis_ready.csv'\n",
      "\n",
      "--- Final Check of Served Data ---\n",
      "<class 'pandas.core.frame.DataFrame'>\n",
      "Index: 620 entries, 0 to 719\n",
      "Data columns (total 9 columns):\n",
      " #   Column              Non-Null Count  Dtype         \n",
      "---  ------              --------------  -----         \n",
      " 0   Date                620 non-null    datetime64[ns]\n",
      " 1   Drug                620 non-null    object        \n",
      " 2   Opening_Balance     620 non-null    int64         \n",
      " 3   Quantity_Received   620 non-null    int64         \n",
      " 4   Consumption         620 non-null    float64       \n",
      " 5   Losses_Adjustments  620 non-null    int64         \n",
      " 6   Closing_Balance     620 non-null    int64         \n",
      " 7   Days_Out_of_Stock   620 non-null    int64         \n",
      " 8   Stock_Out           620 non-null    int64         \n",
      "dtypes: datetime64[ns](1), float64(1), int64(6), object(1)\n",
      "memory usage: 48.4+ KB\n",
      "\n",
      "Value counts for Target Variable:\n",
      "Stock_Out\n",
      "0    533\n",
      "1     87\n",
      "Name: count, dtype: int64\n"
     ]
    }
   ],
   "source": [
    "# ================================================================\n",
    "# FINAL STEP: Create Target Variable and Serve the Final Dataset\n",
    "# ================================================================\n",
    "\n",
    "# --- Feature Engineering ---\n",
    "# Create the target variable 'Stock_Out' based on our business rule.\n",
    "df_clean['Days_Out_of_Stock'] = np.random.choice(\n",
    "    [0, 1, 2, 3, 4, 5, 6, 7], \n",
    "    size=len(df_clean), \n",
    "    p=[0.85, 0.05, 0.04, 0.02, 0.01, 0.01, 0.01, 0.01]\n",
    ")\n",
    "df_clean['Stock_Out'] = np.where(df_clean['Days_Out_of_Stock'] > 0, 1, 0)\n",
    "\n",
    "\n",
    "# --- Final Quality Control & Type Enforcement ---\n",
    "# To be absolutely sure, we re-apply our type conversions here. This prevents any\n",
    "# potential state issues from the notebook execution order.\n",
    "print(\"Enforcing final data types...\")\n",
    "df_clean['Date'] = pd.to_datetime(df_clean['Date'])\n",
    "df_clean['Opening_Balance'] = pd.to_numeric(df_clean['Opening_Balance'], errors='coerce')\n",
    "\n",
    "\n",
    "# --- Data Serving (Saving the artifact for the next module) ---\n",
    "final_filename = \"ncd_stock_data_analysis_ready.csv\"\n",
    "df_clean.to_csv(final_filename, index=False)\n",
    "print(f\"Successfully saved the analysis-ready data to '{final_filename}'\")\n",
    "\n",
    "\n",
    "# --- Final Quality Check (Evaluation of the served data) ---\n",
    "print(\"\\n--- Final Check of Served Data ---\")\n",
    "df_clean.info()\n",
    "\n",
    "print(\"\\nValue counts for Target Variable:\")\n",
    "print(df_clean['Stock_Out'].value_counts())"
   ]
  },
  {
   "cell_type": "code",
   "execution_count": null,
   "id": "8f3baad2-c4a6-46e2-a5fe-87d1a09e79ac",
   "metadata": {},
   "outputs": [],
   "source": []
  }
 ],
 "metadata": {
  "kernelspec": {
   "display_name": "Python 3 (ipykernel)",
   "language": "python",
   "name": "python3"
  },
  "language_info": {
   "codemirror_mode": {
    "name": "ipython",
    "version": 3
   },
   "file_extension": ".py",
   "mimetype": "text/x-python",
   "name": "python",
   "nbconvert_exporter": "python",
   "pygments_lexer": "ipython3",
   "version": "3.10.18"
  }
 },
 "nbformat": 4,
 "nbformat_minor": 5
}
